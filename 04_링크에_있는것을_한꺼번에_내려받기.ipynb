{
  "nbformat": 4,
  "nbformat_minor": 0,
  "metadata": {
    "colab": {
      "name": "04-링크에 있는것을 한꺼번에 내려받기",
      "provenance": [],
      "authorship_tag": "ABX9TyOW+nJSO8uf1AUZdvCya4xQ",
      "include_colab_link": true
    },
    "kernelspec": {
      "name": "python3",
      "display_name": "Python 3"
    }
  },
  "cells": [
    {
      "cell_type": "markdown",
      "metadata": {
        "id": "view-in-github",
        "colab_type": "text"
      },
      "source": [
        "<a href=\"https://colab.research.google.com/github/jhk0530/spider/blob/master/04_%EB%A7%81%ED%81%AC%EC%97%90_%EC%9E%88%EB%8A%94%EA%B2%83%EC%9D%84_%ED%95%9C%EA%BA%BC%EB%B2%88%EC%97%90_%EB%82%B4%EB%A0%A4%EB%B0%9B%EA%B8%B0.ipynb\" target=\"_parent\"><img src=\"https://colab.research.google.com/assets/colab-badge.svg\" alt=\"Open In Colab\"/></a>"
      ]
    },
    {
      "cell_type": "markdown",
      "metadata": {
        "id": "jXMSC7CYo8LT",
        "colab_type": "text"
      },
      "source": [
        "## `urljoin` 으로 상대경로를 절대경로로 치환하기\n",
        "\n",
        "* `a` 태그에 달린 게 상대경로 일 경우, 재귀적으로 다운로드 받아야함.\n",
        "* `a` 태그에 href가 `/img/foo.png` 와 같을때 사용함.\n"
      ]
    },
    {
      "cell_type": "code",
      "metadata": {
        "id": "Lh8SL9wYpO_7",
        "colab_type": "code",
        "colab": {
          "base_uri": "https://localhost:8080/",
          "height": 107
        },
        "outputId": "dd57f1cb-8f44-41c7-85aa-2f1d999f33ec"
      },
      "source": [
        "from urllib.parse import urljoin\n",
        "\n",
        "base = 'http://example.com/html/a.html'\n",
        "\n",
        "print(urljoin(base, 'b.html'))\n",
        "print(urljoin(base, 'sub/c.html'))\n",
        "print(urljoin(base, '../index.html'))\n",
        "print(urljoin(base, '../img/hoge.png'))\n",
        "print(urljoin(base, '../css/hoge.css'))\n"
      ],
      "execution_count": 1,
      "outputs": [
        {
          "output_type": "stream",
          "text": [
            "http://example.com/html/b.html\n",
            "http://example.com/html/sub/c.html\n",
            "http://example.com/index.html\n",
            "http://example.com/img/hoge.png\n",
            "http://example.com/css/hoge.css\n"
          ],
          "name": "stdout"
        }
      ]
    },
    {
      "cell_type": "markdown",
      "metadata": {
        "id": "GhOHvPC8p0Hx",
        "colab_type": "text"
      },
      "source": [
        "전체 다운로드 받기 생략."
      ]
    }
  ]
}
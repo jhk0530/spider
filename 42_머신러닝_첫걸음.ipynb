{
  "nbformat": 4,
  "nbformat_minor": 0,
  "metadata": {
    "colab": {
      "name": "42-머신러닝 첫걸음",
      "provenance": [],
      "collapsed_sections": [],
      "toc_visible": true,
      "authorship_tag": "ABX9TyMs4ZaNYQsYixGNPSbEaUEv",
      "include_colab_link": true
    },
    "kernelspec": {
      "name": "python3",
      "display_name": "Python 3"
    }
  },
  "cells": [
    {
      "cell_type": "markdown",
      "metadata": {
        "id": "view-in-github",
        "colab_type": "text"
      },
      "source": [
        "<a href=\"https://colab.research.google.com/github/jhk0530/spider/blob/master/42_%EB%A8%B8%EC%8B%A0%EB%9F%AC%EB%8B%9D_%EC%B2%AB%EA%B1%B8%EC%9D%8C.ipynb\" target=\"_parent\"><img src=\"https://colab.research.google.com/assets/colab-badge.svg\" alt=\"Open In Colab\"/></a>"
      ]
    },
    {
      "cell_type": "code",
      "metadata": {
        "id": "Ap5NqkGq6dIJ",
        "colab_type": "code",
        "colab": {}
      },
      "source": [
        "# library install\n",
        "\n",
        "!pip3 install -U scikit-learn scipy matplotlib scikit-image\n",
        "!pip3 install pandas\n",
        "\n"
      ],
      "execution_count": 0,
      "outputs": []
    },
    {
      "cell_type": "markdown",
      "metadata": {
        "id": "AevnYve86vYO",
        "colab_type": "text"
      },
      "source": [
        "## `XOR` 학습\n",
        "\n",
        "|P|Q| P xor Q |\n",
        "|:---:|:---:|:---:|\n",
        "|0|0|0|\n",
        "|1|0|1|\n",
        "|0|1|1|\n",
        "|1|1|0|\n",
        "\n"
      ]
    },
    {
      "cell_type": "code",
      "metadata": {
        "id": "7dTjzZG46z3z",
        "colab_type": "code",
        "colab": {
          "base_uri": "https://localhost:8080/",
          "height": 53
        },
        "outputId": "c9c6a94f-9e07-475b-bd8f-d70a8ca2731c"
      },
      "source": [
        "from sklearn import svm\n",
        "\n",
        "xor_data = [\n",
        "            [0,0,0],\n",
        "            [1,0,1],\n",
        "            [0,1,1],\n",
        "            [1,1,0]\n",
        "]\n",
        "\n",
        "data = []\n",
        "label = []\n",
        "\n",
        "for row in xor_data:\n",
        "  p = row[0]\n",
        "  q = row[1]\n",
        "  r = row[2]\n",
        "  data.append([p,q])\n",
        "  label.append(r)\n",
        "\n",
        "clf = svm.SVC()\n",
        "clf.fit(data, label)\n",
        "\n",
        "pre = clf.predict(data)\n",
        "print(\"예측 결과: \", pre)\n",
        "\n",
        "ok = 0\n",
        "total = 0\n",
        "\n",
        "for idx, answer in enumerate(label) :\n",
        "  p = pre[idx]\n",
        "  if p == answer: ok +=1\n",
        "  total +=1\n",
        "print(\"정답률 : \", ok , \"/\", total, \"=\", ok/total)"
      ],
      "execution_count": 5,
      "outputs": [
        {
          "output_type": "stream",
          "text": [
            "예측 결과:  [0 1 1 0]\n",
            "정답률 :  4 / 4 = 1.0\n"
          ],
          "name": "stdout"
        }
      ]
    },
    {
      "cell_type": "markdown",
      "metadata": {
        "id": "YNbce2Nl8Apu",
        "colab_type": "text"
      },
      "source": [
        "## 프레임워크로 프로그램 간단하게 작성하기\n"
      ]
    },
    {
      "cell_type": "code",
      "metadata": {
        "id": "DQ2x9srv8Esc",
        "colab_type": "code",
        "colab": {
          "base_uri": "https://localhost:8080/",
          "height": 35
        },
        "outputId": "02b76b98-a9de-4e1b-f141-d09106439fe5"
      },
      "source": [
        "import pandas as pd\n",
        "from sklearn import svm, metrics\n",
        "\n",
        "# metrics 가 측정 해주는거\n",
        "\n",
        "xor_input = [\n",
        "            [0,0,0],\n",
        "            [1,0,1],\n",
        "            [0,1,1],\n",
        "            [1,1,0]\n",
        "]\n",
        "\n",
        "xor_df = pd.DataFrame(xor_input)\n",
        "# ix deprecate 됨, loc로 수정\n",
        "#xor_data = xor_df.ix[:,0:1]\n",
        "#xor_label = xor_df.ix[:,2] \n",
        "\n",
        "# loc vs iloc : label name vs index name 이라는데 그럼 iloc가 맞지 않나?\n",
        "\n",
        "xor_data = xor_df.loc[:,0:1]\n",
        "xor_label = xor_df.loc[:,2] \n",
        "\n",
        "clf = svm.SVC()\n",
        "clf.fit(xor_data, xor_label)\n",
        "pre = clf.predict(xor_data)\n",
        "\n",
        "ac_score = metrics.accuracy_score(xor_label, pre)\n",
        "print('정답률 = ', ac_score)\n"
      ],
      "execution_count": 14,
      "outputs": [
        {
          "output_type": "stream",
          "text": [
            "정답률 =  1.0\n"
          ],
          "name": "stdout"
        }
      ]
    },
    {
      "cell_type": "markdown",
      "metadata": {
        "id": "PsZSQB3M9niE",
        "colab_type": "text"
      },
      "source": [
        "## iris 품종 구분"
      ]
    },
    {
      "cell_type": "code",
      "metadata": {
        "id": "-_v5c11O9uwn",
        "colab_type": "code",
        "colab": {
          "base_uri": "https://localhost:8080/",
          "height": 35
        },
        "outputId": "1ee08c21-842f-493b-e9b5-10d30f07b22c"
      },
      "source": [
        "# download iris.csv\n",
        "\n",
        "\n",
        "import urllib.request\n",
        "\n",
        "URL = 'https://github.com/pydata/pandas/raw/master/pandas/tests/data/iris.csv'\n",
        "savename = \"iris.csv\"\n",
        "\n",
        "urllib.request.urlretrieve(URL,savename)\n"
      ],
      "execution_count": 19,
      "outputs": [
        {
          "output_type": "execute_result",
          "data": {
            "text/plain": [
              "('iris.csv', <http.client.HTTPMessage at 0x7f8526b81470>)"
            ]
          },
          "metadata": {
            "tags": []
          },
          "execution_count": 19
        }
      ]
    },
    {
      "cell_type": "code",
      "metadata": {
        "id": "xu8HyweE_4KJ",
        "colab_type": "code",
        "colab": {
          "base_uri": "https://localhost:8080/",
          "height": 35
        },
        "outputId": "2c6960de-b8b7-4000-a058-b021870cac32"
      },
      "source": [
        "from sklearn import svm, metrics\n",
        "import random, re\n",
        "\n",
        "csv = []\n",
        "with open('iris.csv','r', encoding = 'utf-8') as fp:\n",
        "  for line in fp:\n",
        "    line = line.strip()\n",
        "    cols = line.split(',')\n",
        "\n",
        "    fn = lambda n : float(n) if re.match(r'^[0-9\\.]+$', n) else n\n",
        "    cols = list(map(fn, cols))\n",
        "    csv.append(cols)\n",
        "\n",
        "del csv[0] # remove header\n",
        "\n",
        "random.shuffle(csv)\n",
        "\n",
        "total_len = len(csv)\n",
        "train_len = int(total_len*2/3)\n",
        "train_data = []\n",
        "test_data = []\n",
        "train_label = []\n",
        "test_label = []\n",
        "\n",
        "# this sucks\n",
        "\n",
        "for i in range(total_len):\n",
        "  data = csv[i][0:3] # 오타 남\n",
        "  label = csv[i][4]\n",
        "  if i< train_len:\n",
        "    train_data.append(data)\n",
        "    train_label.append(label)\n",
        "\n",
        "  else:\n",
        "    test_data.append(data)\n",
        "    test_label.append(label)\n",
        "\n",
        "clf = svm.SVC()\n",
        "clf.fit(train_data, train_label)\n",
        "pre = clf.predict(test_data)\n",
        "\n",
        "ac_score = metrics.accuracy_score(test_label, pre)\n",
        "print('정답률 = ', ac_score)\n",
        "\n"
      ],
      "execution_count": 20,
      "outputs": [
        {
          "output_type": "stream",
          "text": [
            "정답률 =  0.96\n"
          ],
          "name": "stdout"
        }
      ]
    },
    {
      "cell_type": "markdown",
      "metadata": {
        "id": "EXfM93_3Ca1z",
        "colab_type": "text"
      },
      "source": [
        "## `train_test_split` 함수로 train 데이터와 test 데이터 고상하게 구분하기\n",
        "\n"
      ]
    },
    {
      "cell_type": "code",
      "metadata": {
        "id": "P37xszj6CijU",
        "colab_type": "code",
        "colab": {
          "base_uri": "https://localhost:8080/",
          "height": 91
        },
        "outputId": "79dc7109-aa9e-4354-c8d5-024d7fcb5aec"
      },
      "source": [
        "import pandas as pd\n",
        "from sklearn import svm, metrics\n",
        "from sklearn.model_selection import train_test_split\n",
        "\n",
        "csv = pd.read_csv('iris.csv')\n",
        "\n",
        "csv_data = csv[[\"SepalLength\", \"SepalWidth\", \"PetalLength\", \"PetalWidth\"]]\n",
        "csv_label = csv[[\"Name\"]]\n",
        "\n",
        "\n",
        "train_data, test_data, train_label, test_label = train_test_split(csv_data, csv_label)\n",
        "\n",
        "clf = svm.SVC()\n",
        "clf.fit(train_data, train_label)\n",
        "pre = clf.predict(test_data)\n",
        "\n",
        "ac_score = metrics.accuracy_score(test_label, pre)\n",
        "print('정답률 = ', ac_score)"
      ],
      "execution_count": 23,
      "outputs": [
        {
          "output_type": "stream",
          "text": [
            "정답률 =  0.9210526315789473\n"
          ],
          "name": "stdout"
        },
        {
          "output_type": "stream",
          "text": [
            "/usr/local/lib/python3.6/dist-packages/sklearn/utils/validation.py:760: DataConversionWarning: A column-vector y was passed when a 1d array was expected. Please change the shape of y to (n_samples, ), for example using ravel().\n",
            "  y = column_or_1d(y, warn=True)\n"
          ],
          "name": "stderr"
        }
      ]
    }
  ]
}
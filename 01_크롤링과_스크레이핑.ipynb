{
  "nbformat": 4,
  "nbformat_minor": 0,
  "metadata": {
    "colab": {
      "name": "01-크롤링과 스크레이핑",
      "provenance": [],
      "collapsed_sections": [
        "fx_WlYRKMT7j",
        "Lo3p8yL3PFui",
        "TaqRFBoyQFrX",
        "H3SGa5h6RKN-",
        "BngDTl2XUr2o"
      ],
      "authorship_tag": "ABX9TyP8noar/+Ep3Zymxyf+/XiA",
      "include_colab_link": true
    },
    "kernelspec": {
      "name": "python3",
      "display_name": "Python 3"
    }
  },
  "cells": [
    {
      "cell_type": "markdown",
      "metadata": {
        "id": "view-in-github",
        "colab_type": "text"
      },
      "source": [
        "<a href=\"https://colab.research.google.com/github/jhk0530/spider/blob/master/01_%ED%81%AC%EB%A1%A4%EB%A7%81%EA%B3%BC_%EC%8A%A4%ED%81%AC%EB%A0%88%EC%9D%B4%ED%95%91.ipynb\" target=\"_parent\"><img src=\"https://colab.research.google.com/assets/colab-badge.svg\" alt=\"Open In Colab\"/></a>"
      ]
    },
    {
      "cell_type": "markdown",
      "metadata": {
        "id": "fx_WlYRKMT7j",
        "colab_type": "text"
      },
      "source": [
        "## `urlretrieve`로 파일을 저장하기"
      ]
    },
    {
      "cell_type": "code",
      "metadata": {
        "id": "L2AO_g8xKOJ4",
        "colab_type": "code",
        "outputId": "1b05bcfa-119d-4356-ce36-482524cf29a8",
        "colab": {
          "base_uri": "https://localhost:8080/",
          "height": 35
        }
      },
      "source": [
        "\n",
        "import urllib.request\n",
        "\n",
        "\n",
        "url = \"http://uta.pw/shodou/img/28/214.png\"\n",
        "savename = \"test.png\"\n",
        "\n",
        "urllib.request.urlretrieve(url,savename)\n",
        "\n",
        "print('저장되었습니다...!')"
      ],
      "execution_count": 0,
      "outputs": [
        {
          "output_type": "stream",
          "text": [
            "저장되었습니다...!\n"
          ],
          "name": "stdout"
        }
      ]
    },
    {
      "cell_type": "markdown",
      "metadata": {
        "id": "RyITc4LdMa2W",
        "colab_type": "text"
      },
      "source": [
        "파이썬에서는, import를 사용하여 패키지를 로드함 <br>\n",
        "``` python\n",
        "import urllib.request \n",
        "```\n",
        "\n",
        "urllib 패키지 내부의 request 모듈을 로드한다 라는 뜻.\n",
        "\n",
        "\n"
      ]
    },
    {
      "cell_type": "markdown",
      "metadata": {
        "id": "Lo3p8yL3PFui",
        "colab_type": "text"
      },
      "source": [
        "## `urlopen`으로 파일을 저장 및 메모리에 로드하기"
      ]
    },
    {
      "cell_type": "code",
      "metadata": {
        "id": "DFVRJYsxOzZF",
        "colab_type": "code",
        "outputId": "a561817d-f895-45e5-bb9a-8526825beeca",
        "colab": {
          "base_uri": "https://localhost:8080/",
          "height": 35
        }
      },
      "source": [
        "import urllib.request\n",
        "\n",
        "url = \"http://uta.pw/shodou/img/28/214.png\"\n",
        "savename = \"test.png\"\n",
        "# 메모리에 저장됨\n",
        "mem = urllib.request.urlopen(url).read()\n",
        "\n",
        "with open(savename, mode = 'wb') as f :\n",
        "  f.write(mem)\n",
        "  print(\"저장되었습니다...!\")\n",
        "\n"
      ],
      "execution_count": 0,
      "outputs": [
        {
          "output_type": "stream",
          "text": [
            "저장되었습니다...!\n"
          ],
          "name": "stdout"
        }
      ]
    },
    {
      "cell_type": "markdown",
      "metadata": {
        "id": "TaqRFBoyQFrX",
        "colab_type": "text"
      },
      "source": [
        "## 웹에서 데이터 추출하기"
      ]
    },
    {
      "cell_type": "code",
      "metadata": {
        "id": "LWzvLU1yQIg4",
        "colab_type": "code",
        "outputId": "0cb8f957-41ae-4116-8fe9-37ea50e1dd38",
        "colab": {
          "base_uri": "https://localhost:8080/",
          "height": 251
        }
      },
      "source": [
        "import urllib.request\n",
        "\n",
        "url = 'http://api.aoikujira.com/ip/ini'\n",
        "res = urllib.request.urlopen(url)\n",
        "data = res.read() # 바이너리 데이터.\n",
        "\n",
        "text = data.decode('utf-8')\n",
        "print(text)\n",
        "\n",
        "# 접속 클라이언트 정보를 얻어내는 api"
      ],
      "execution_count": 0,
      "outputs": [
        {
          "output_type": "stream",
          "text": [
            "[ip]\n",
            "API_URI=http://api.aoikujira.com/ip/get.php\n",
            "REMOTE_ADDR=35.237.217.246\n",
            "REMOTE_HOST=246.217.237.35.bc.googleusercontent.com\n",
            "REMOTE_PORT=43350\n",
            "HTTP_HOST=api.aoikujira.com\n",
            "HTTP_USER_AGENT=Python-urllib/3.6\n",
            "HTTP_ACCEPT_LANGUAGE=\n",
            "HTTP_ACCEPT_CHARSET=\n",
            "SERVER_PORT=80\n",
            "FORMAT=ini\n",
            "\n",
            "\n"
          ],
          "name": "stdout"
        }
      ]
    },
    {
      "cell_type": "markdown",
      "metadata": {
        "id": "H3SGa5h6RKN-",
        "colab_type": "text"
      },
      "source": [
        "## url에 parameter 추가해서 request 전송 \n"
      ]
    },
    {
      "cell_type": "code",
      "metadata": {
        "id": "rnZgD3HrROBI",
        "colab_type": "code",
        "colab": {}
      },
      "source": [
        "# 기상청 RSS, url에 지역번호 지정하여 특정 지역의 정보만 제공 가능.\n",
        "import urllib.request\n",
        "import urllib.parse\n",
        "API = 'http://www.kma.go.kr/weather/forecast/mid-term-rss3.jsp'\n",
        "\n",
        "# 108 : 전국, \n",
        "# 109 : 서울\n",
        "# 105 : 강원도\n",
        "# 131 충북 133 충남\n",
        "# 146 전북 156 전남\n",
        "# 143 경북 159 경남\n",
        "# 184 제주\n",
        "\n",
        "\n",
        "values = { 'stnId' : '159'}\n",
        "params = urllib.parse.urlencode(values)\n",
        "\n",
        "url = API + \"?\" + params\n",
        "print(\"url = \", url)\n",
        "\n",
        "data = urllib.request.urlopen(url).read()\n",
        "text = data.decode('utf-8')\n",
        "print(text)\n"
      ],
      "execution_count": 0,
      "outputs": []
    },
    {
      "cell_type": "markdown",
      "metadata": {
        "id": "BngDTl2XUr2o",
        "colab_type": "text"
      },
      "source": [
        "## parameter를 command 상에서 지정하기 ( colab에서 돌리는 경우 실행하지 말 것 )\n"
      ]
    },
    {
      "cell_type": "code",
      "metadata": {
        "id": "HLaxK_YnUwMQ",
        "colab_type": "code",
        "colab": {}
      },
      "source": [
        "#!/usr/bin/env python3\n",
        "\n",
        "import Sys\n",
        "import urllib.request as req\n",
        "import urllib.parse as parse\n",
        "\n",
        "if len(sys.argv) <= 1:\n",
        "  print(\"USAGE : download-forecast-argv <Region Number>\")\n",
        "  sys.exit()\n",
        "regionNumber = sys.argv[1]\n",
        "\n",
        "API = 'http://www.kma.go.kr/weather/forecast/mid-term-rss3.jsp'\n",
        "\n",
        "values = { 'stnId' : regionNumber }\n",
        "params = urllib.parse.urlencode(values)\n",
        "\n",
        "url = API + \"?\" + params\n",
        "print(\"url = \", url)\n",
        "\n",
        "data = urllib.request.urlopen(url).read()\n",
        "text = data.decode('utf-8')\n",
        "print(text)\n"
      ],
      "execution_count": 0,
      "outputs": []
    }
  ]
}
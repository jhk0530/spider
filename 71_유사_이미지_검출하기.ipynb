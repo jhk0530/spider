{
  "nbformat": 4,
  "nbformat_minor": 0,
  "metadata": {
    "colab": {
      "name": "71-유사 이미지 검출하기",
      "provenance": [],
      "toc_visible": true,
      "authorship_tag": "ABX9TyNeqc4dtW2vrKRo4Ca4arDp",
      "include_colab_link": true
    },
    "kernelspec": {
      "name": "python3",
      "display_name": "Python 3"
    }
  },
  "cells": [
    {
      "cell_type": "markdown",
      "metadata": {
        "id": "view-in-github",
        "colab_type": "text"
      },
      "source": [
        "<a href=\"https://colab.research.google.com/github/jhk0530/spider/blob/master/71_%EC%9C%A0%EC%82%AC_%EC%9D%B4%EB%AF%B8%EC%A7%80_%EA%B2%80%EC%B6%9C%ED%95%98%EA%B8%B0.ipynb\" target=\"_parent\"><img src=\"https://colab.research.google.com/assets/colab-badge.svg\" alt=\"Open In Colab\"/></a>"
      ]
    },
    {
      "cell_type": "markdown",
      "metadata": {
        "id": "mZ_EazkF1en5",
        "colab_type": "text"
      },
      "source": [
        "## 이미지 인식 - Average Hash\n",
        "\n",
        "`Average Hash`란, 이미지를 비교 가능한 해시 값으로 나타내는것, 해시함수 `MD5`, `SHA256`등을 이용하여 변환.\n",
        "\n",
        "그러나 이미지가 비슷한지 검출할때는 사용하면 안됨 이유는 이미지데이터에\n",
        "\n",
        "- 해상도 조절\n",
        "- 색 보정\n",
        "- PNG 등 형식 변경등으로 인해\n",
        "\n",
        "완전한 바이너리를 찾는것이 어려움.\n",
        "\n",
        "이로 인해 이미지가 조금 밝게 혹은 어둡게처럼 약간 변경후에도 이미지를 비교 할 경우 `Average Hash`를 사용함\n",
        "\n",
        "예시 프로세스 과정\n",
        "\n",
        "- 이미지를 8x8 사이즈로 축소 시킴\n",
        "- 색을 그레이스케일로 변환\n",
        "- 이미지의 각 픽셀의 평균을 계산하여 평균보다 크면 1, 작으면 0을 반환 \n",
        "\n",
        "이렇게 하면 이미지마다 64비트의 해시 값을 구할 수 있음.\n",
        "\n",
        "사용하는 library는 `pillow`\n",
        "\n",
        "\n",
        "\n",
        "\n"
      ]
    },
    {
      "cell_type": "code",
      "metadata": {
        "id": "NudcXZ0n2ZtA",
        "colab_type": "code",
        "outputId": "e13f2304-aaed-4392-a6d8-fb629b3a2c79",
        "colab": {
          "base_uri": "https://localhost:8080/",
          "height": 35
        }
      },
      "source": [
        "!pip3 install Pillow\n",
        "\n"
      ],
      "execution_count": 0,
      "outputs": [
        {
          "output_type": "stream",
          "text": [
            "Requirement already satisfied: Pillow in /usr/local/lib/python3.6/dist-packages (7.0.0)\n"
          ],
          "name": "stdout"
        }
      ]
    },
    {
      "cell_type": "code",
      "metadata": {
        "id": "GUD1eE395aic",
        "colab_type": "code",
        "outputId": "cf6efe23-f1a6-4b71-97b0-dc1246f75a4b",
        "colab": {
          "base_uri": "https://localhost:8080/",
          "height": 35
        }
      },
      "source": [
        "# 파일 다운로드\n",
        "\n",
        "import urllib.request\n",
        "\n",
        "url = 'https://yotsuya.hotelkeihan.co.jp/wp-content/uploads/sites/394/2019/02/Tokyo-Tower-500x250.jpg'\n",
        "\n",
        "savename  ='tower.jpg'\n",
        "urllib.request.urlretrieve(url, savename)\n",
        "\n",
        "print('저장되었습니다...!')\n"
      ],
      "execution_count": 0,
      "outputs": [
        {
          "output_type": "stream",
          "text": [
            "저장되었습니다...!\n"
          ],
          "name": "stdout"
        }
      ]
    },
    {
      "cell_type": "code",
      "metadata": {
        "id": "osw6ZW8t2e8Q",
        "colab_type": "code",
        "outputId": "9e1734fd-91f2-4b10-d83c-323003e52d5b",
        "colab": {
          "base_uri": "https://localhost:8080/",
          "height": 323
        }
      },
      "source": [
        "from PIL import Image\n",
        "import numpy as np\n",
        "\n",
        "def average_hash (fname, size = 16):\n",
        "  img = Image.open(fname)\n",
        "  img = img.convert('L') # 그레이 스케일로 변환\n",
        "  img = img.resize((size,size), Image.ANTIALIAS) # 리사이즈\n",
        "  \n",
        "  pixel_data = img.getdata() # 픽셀값\n",
        "  pixels = np.array(pixel_data) # numpy로 치환\n",
        "  pixels = pixels.reshape((size, size)) # 2 차원으로 변환\n",
        "\n",
        "  avg = pixels.mean()\n",
        "  diff = 1* (pixels>avg)\n",
        "\n",
        "  return diff\n",
        "\n",
        "def np2hash(ahash):\n",
        "  bhash  =[]\n",
        "  \n",
        "  for nl in ahash.tolist():\n",
        "    s1 = [str(i) for i in nl]\n",
        "    s2 = ''.join(s1)\n",
        "    i = int(s2,2)\n",
        "    bhash.append('%04x' % i)\n",
        "  \n",
        "  return \"\".join(bhash)\n",
        "\n",
        "ahash = average_hash('tower.jpg')\n",
        "print(ahash)\n",
        "print(np2hash(ahash))\n"
      ],
      "execution_count": 0,
      "outputs": [
        {
          "output_type": "stream",
          "text": [
            "[[0 0 0 0 0 0 1 1 1 0 0 0 0 0 0 0]\n",
            " [0 0 0 0 0 0 1 1 1 0 0 0 0 0 0 0]\n",
            " [0 0 0 0 0 1 1 1 1 1 0 0 0 0 0 0]\n",
            " [0 0 0 0 0 1 1 1 1 0 0 0 0 0 0 0]\n",
            " [0 0 0 0 0 0 1 1 1 0 0 0 0 0 0 0]\n",
            " [0 0 0 0 0 1 1 1 1 1 0 0 0 0 0 0]\n",
            " [0 0 0 0 0 1 1 0 0 1 0 0 0 0 0 0]\n",
            " [0 0 0 0 1 1 1 1 0 1 1 0 0 0 0 0]\n",
            " [0 0 0 0 1 1 1 1 0 0 1 0 0 0 0 1]\n",
            " [0 0 0 0 1 1 1 1 0 0 0 0 0 0 0 1]\n",
            " [0 0 0 0 0 1 1 0 0 0 0 0 0 0 1 1]\n",
            " [0 0 0 0 0 1 0 1 0 0 0 0 0 1 1 1]\n",
            " [0 0 0 0 1 1 0 1 0 0 0 0 0 1 1 1]\n",
            " [0 0 0 0 0 0 0 1 0 0 0 1 0 1 1 1]\n",
            " [0 0 0 0 1 1 0 1 0 0 0 1 1 1 1 1]\n",
            " [0 0 0 0 1 1 1 1 0 0 0 0 1 1 1 1]]\n",
            "0380038007c00780038007c006400f600f210f01060305070d0701170d1f0f0f\n"
          ],
          "name": "stdout"
        }
      ]
    },
    {
      "cell_type": "code",
      "metadata": {
        "id": "BdBCQ0jl5-Z_",
        "colab_type": "code",
        "outputId": "2c1bd519-2ec4-4159-ac97-bc3aafbea162",
        "colab": {
          "base_uri": "https://localhost:8080/",
          "height": 784
        }
      },
      "source": [
        "# CALTECH Data URL = http://www.vision.caltech.edu/Image_datasets/Caltech101/Caltech101.html\n",
        "\n",
        "# http://www.vision.caltech.edu/Image_Datasets/Caltech101/101_ObjectCategories.tar.gz\n",
        "\n",
        "\n",
        "import os\n",
        "\n",
        "os.getcwd() # /content\n",
        "\n",
        "#import urllib.request\n",
        "\n",
        "#url = 'http://www.vision.caltech.edu/Image_Datasets/Caltech101/101_ObjectCategories.tar.gz'\n",
        "\n",
        "#savename  ='101_ObjectCategories.tar.gz'\n",
        "#urllib.request.urlretrieve(url, savename)\n",
        "\n",
        "# print('저장되었습니다...!')\n"
      ],
      "execution_count": 14,
      "outputs": [
        {
          "output_type": "stream",
          "text": [
            "ERROR:root:Internal Python error in the inspect module.\n",
            "Below is the traceback from this internal error.\n",
            "\n"
          ],
          "name": "stderr"
        },
        {
          "output_type": "stream",
          "text": [
            "Traceback (most recent call last):\n",
            "  File \"/usr/local/lib/python3.6/dist-packages/IPython/core/interactiveshell.py\", line 2882, in run_code\n",
            "    exec(code_obj, self.user_global_ns, self.user_ns)\n",
            "  File \"<ipython-input-14-0e1fc10ab548>\", line 5, in <module>\n",
            "    os.getcwd() # /content\n",
            "FileNotFoundError: [Errno 2] No such file or directory\n",
            "\n",
            "During handling of the above exception, another exception occurred:\n",
            "\n",
            "Traceback (most recent call last):\n",
            "  File \"/usr/local/lib/python3.6/dist-packages/IPython/core/interactiveshell.py\", line 1823, in showtraceback\n",
            "    stb = value._render_traceback_()\n",
            "AttributeError: 'FileNotFoundError' object has no attribute '_render_traceback_'\n",
            "\n",
            "During handling of the above exception, another exception occurred:\n",
            "\n",
            "Traceback (most recent call last):\n",
            "  File \"/usr/local/lib/python3.6/dist-packages/IPython/core/ultratb.py\", line 1132, in get_records\n",
            "    return _fixed_getinnerframes(etb, number_of_lines_of_context, tb_offset)\n",
            "  File \"/usr/local/lib/python3.6/dist-packages/IPython/core/ultratb.py\", line 313, in wrapped\n",
            "    return f(*args, **kwargs)\n",
            "  File \"/usr/local/lib/python3.6/dist-packages/IPython/core/ultratb.py\", line 358, in _fixed_getinnerframes\n",
            "    records = fix_frame_records_filenames(inspect.getinnerframes(etb, context))\n",
            "  File \"/usr/lib/python3.6/inspect.py\", line 1490, in getinnerframes\n",
            "    frameinfo = (tb.tb_frame,) + getframeinfo(tb, context)\n",
            "  File \"/usr/lib/python3.6/inspect.py\", line 1448, in getframeinfo\n",
            "    filename = getsourcefile(frame) or getfile(frame)\n",
            "  File \"/usr/lib/python3.6/inspect.py\", line 696, in getsourcefile\n",
            "    if getattr(getmodule(object, filename), '__loader__', None) is not None:\n",
            "  File \"/usr/lib/python3.6/inspect.py\", line 725, in getmodule\n",
            "    file = getabsfile(object, _filename)\n",
            "  File \"/usr/lib/python3.6/inspect.py\", line 709, in getabsfile\n",
            "    return os.path.normcase(os.path.abspath(_filename))\n",
            "  File \"/usr/lib/python3.6/posixpath.py\", line 383, in abspath\n",
            "    cwd = os.getcwd()\n",
            "FileNotFoundError: [Errno 2] No such file or directory\n"
          ],
          "name": "stdout"
        },
        {
          "output_type": "error",
          "ename": "FileNotFoundError",
          "evalue": "ignored",
          "traceback": [
            "\u001b[0;31m---------------------------------------------------------------------------\u001b[0m"
          ]
        }
      ]
    },
    {
      "cell_type": "markdown",
      "metadata": {
        "id": "ogHmf2Yx-vNM",
        "colab_type": "text"
      },
      "source": [
        "데이터 저장하려는데 디렉토리 구조가 안보임 ㅅㄱ\n"
      ]
    }
  ]
}
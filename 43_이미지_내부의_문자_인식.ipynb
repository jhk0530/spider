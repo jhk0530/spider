{
  "nbformat": 4,
  "nbformat_minor": 0,
  "metadata": {
    "colab": {
      "name": "43-이미지 내부의 문자 인식",
      "provenance": [],
      "authorship_tag": "ABX9TyMqre7eEL8816AQRqNClXyx",
      "include_colab_link": true
    },
    "kernelspec": {
      "name": "python3",
      "display_name": "Python 3"
    }
  },
  "cells": [
    {
      "cell_type": "markdown",
      "metadata": {
        "id": "view-in-github",
        "colab_type": "text"
      },
      "source": [
        "<a href=\"https://colab.research.google.com/github/jhk0530/spider/blob/master/43_%EC%9D%B4%EB%AF%B8%EC%A7%80_%EB%82%B4%EB%B6%80%EC%9D%98_%EB%AC%B8%EC%9E%90_%EC%9D%B8%EC%8B%9D.ipynb\" target=\"_parent\"><img src=\"https://colab.research.google.com/assets/colab-badge.svg\" alt=\"Open In Colab\"/></a>"
      ]
    },
    {
      "cell_type": "markdown",
      "metadata": {
        "id": "OG-85VuVk_P5",
        "colab_type": "text"
      },
      "source": [
        "## 이미지 데이터 다운로드 받기. "
      ]
    },
    {
      "cell_type": "code",
      "metadata": {
        "id": "pTMCQpfvYN_N",
        "colab_type": "code",
        "colab": {
          "base_uri": "https://localhost:8080/",
          "height": 179
        },
        "outputId": "9e5bc66e-3c64-4e96-ef32-f661b8d8562a"
      },
      "source": [
        "URL = 'http://yann.lecun.com/exdb/mnist/'\n",
        "\n",
        "\n",
        "import urllib.request as req\n",
        "import gzip, os, os.path\n",
        "\n",
        "savepath = './mnist'\n",
        "baseurl = URL\n",
        "\n",
        "files = [\n",
        "         \"train-images-idx3-ubyte.gz\",\n",
        "         \"train-labels-idx1-ubyte.gz\",\n",
        "         \"t10k-images-idx3-ubyte.gz\",\n",
        "         \"t10k-labels-idx1-ubyte.gz\"\n",
        "]\n",
        "\n",
        "if not os.path.exists(savepath): os.mkdir(savepath)\n",
        "\n",
        "for f in files:\n",
        "  url = baseurl + '/' + f\n",
        "  loc = savepath + '/' + f\n",
        "  print('download : ' , url)\n",
        "  if not os.path.exists(loc):\n",
        "    req.urlretrieve(url,loc)\n",
        "\n",
        "for f in files:\n",
        "  gz_file = savepath + '/' + f\n",
        "  raw_file = savepath + '/' + f.replace('.gz', '')\n",
        "  print('gzip:', f)\n",
        "  with gzip.open(gz_file,'rb') as fp:\n",
        "    body = fp.read()\n",
        "    with open(raw_file, 'wb') as w:\n",
        "      w.write(body)\n",
        "\n",
        "print(\"ok\")"
      ],
      "execution_count": 1,
      "outputs": [
        {
          "output_type": "stream",
          "text": [
            "download :  http://yann.lecun.com/exdb/mnist//train-images-idx3-ubyte.gz\n",
            "download :  http://yann.lecun.com/exdb/mnist//train-labels-idx1-ubyte.gz\n",
            "download :  http://yann.lecun.com/exdb/mnist//t10k-images-idx3-ubyte.gz\n",
            "download :  http://yann.lecun.com/exdb/mnist//t10k-labels-idx1-ubyte.gz\n",
            "gzip: train-images-idx3-ubyte.gz\n",
            "gzip: train-labels-idx1-ubyte.gz\n",
            "gzip: t10k-images-idx3-ubyte.gz\n",
            "gzip: t10k-labels-idx1-ubyte.gz\n",
            "ok\n"
          ],
          "name": "stdout"
        }
      ]
    },
    {
      "cell_type": "markdown",
      "metadata": {
        "id": "QMW-3f9Pfi1e",
        "colab_type": "text"
      },
      "source": [
        "## 이미지 데이터 변환하기 (binary to csv)\n",
        "\n",
        "* `~ubyte` 는 자체적인 db형식이라서 로드 불가능.\n",
        "\n",
        "바이너리 데이터는 다루기 어렵기 때문에 csv로 변환.\n",
        "\n",
        "목표 : \n",
        "\n",
        "`<label>` `<28*28 개 짜리 pixel data>` <br>\n",
        "* ex) 5, 0,0,0,0,.....0 ( 28*28 ) 개\n",
        "\n",
        "\n",
        "\n",
        "\n",
        "\n",
        "\n"
      ]
    },
    {
      "cell_type": "code",
      "metadata": {
        "id": "sHMY7RAmi6iA",
        "colab_type": "code",
        "colab": {}
      },
      "source": [
        "import struct\n",
        "\n",
        "def to_csv(name, maxdata):\n",
        "  lbl_f = open('./mnist/'+name+'-labels-idx1-ubyte','rb')\n",
        "  img_f = open('./mnist/'+name+'-images-idx3-ubyte','rb')\n",
        "  csv_f = open('./mnist/'+name+'.csv','w', encoding = 'utf-8')\n",
        "\n",
        "  mag, lbl_count = struct.unpack(\">II\", lbl_f.read(8))\n",
        "  mag, img_count = struct.unpack(\">II\", img_f.read(8))\n",
        "  rows, cols = struct.unpack('>II', img_f.read(8))\n",
        "  pixels = rows * cols\n",
        "\n",
        "  res = []\n",
        "\n",
        "  for idx in range(lbl_count):\n",
        "    if idx > maxdata : break\n",
        "    label = struct.unpack(\"B\", lbl_f.read(1))[0]\n",
        "    bdata = img_f.read(pixels)\n",
        "    sdata = list(map(lambda n : str(n), bdata))\n",
        "    csv_f.write(str(label)+',')\n",
        "    csv_f.write(','.join(sdata) + '\\r\\n')\n",
        "\n",
        "    if idx < 10 : \n",
        "      s= \"P2 28 28 255\\n\"\n",
        "      s += ' '.join(sdata)\n",
        "      iname = './mnist/{0}-{1}-{2}.pgm'.format(name,idx,label)\n",
        "      with open(iname, 'w', encoding = 'utf-8') as f:\n",
        "        f.write(s)\n",
        "  \n",
        "  csv_f.close()\n",
        "  lbl_f.close()\n",
        "  img_f.close()\n",
        "  \n",
        "to_csv('train' ,1000)\n",
        "to_csv('t10k' ,1000)\n"
      ],
      "execution_count": 0,
      "outputs": []
    },
    {
      "cell_type": "markdown",
      "metadata": {
        "id": "n8ShA_dtk4Uz",
        "colab_type": "text"
      },
      "source": [
        "## 이미지 데이터 학습 시키기\n",
        "\n",
        "이미지를 벡터로 변환 시켜서 입력후 테스트.\n",
        "\n"
      ]
    },
    {
      "cell_type": "code",
      "metadata": {
        "id": "vBTzJ4RplOjN",
        "colab_type": "code",
        "colab": {
          "base_uri": "https://localhost:8080/",
          "height": 359
        },
        "outputId": "ae438c51-0274-409c-d173-4750f88007f4"
      },
      "source": [
        "from sklearn import model_selection, svm, metrics\n",
        "\n",
        "def load_csv(fname):\n",
        "  labels = []\n",
        "  images =[]\n",
        "  \n",
        "  with open(fname , 'r') as f:\n",
        "    for line in f:\n",
        "      cols = line.split(',')\n",
        "      if len(cols)<2: continue\n",
        "      labels.append(int(cols.pop(0)))\n",
        "      vals = list(map(lambda n: int(n)/ 256, cols))\n",
        "      images.append(vals)\n",
        "  return {'labels':labels, \"images\": images}\n",
        "\n",
        "data = load_csv('./mnist/train.csv')\n",
        "test = load_csv('./mnist/t10k.csv')\n",
        "\n",
        "clf = svm.SVC()\n",
        "clf.fit(data['images'], data['labels'])\n",
        "\n",
        "predict = clf.predict(test['images'])\n",
        "\n",
        "ac_score = metrics.accuracy_score(test['labels'], predict)\n",
        "cl_report = metrics.classification_report(test['labels'], predict)\n",
        "\n",
        "print('정답률 = ', ac_score)\n",
        "print('리포트 =')\n",
        "print(cl_report)"
      ],
      "execution_count": 9,
      "outputs": [
        {
          "output_type": "stream",
          "text": [
            "정답률 =  0.8751248751248751\n",
            "리포트 =\n",
            "              precision    recall  f1-score   support\n",
            "\n",
            "           0       0.91      0.95      0.93        85\n",
            "           1       0.98      0.98      0.98       126\n",
            "           2       0.91      0.88      0.89       116\n",
            "           3       0.94      0.75      0.83       107\n",
            "           4       0.85      0.86      0.86       110\n",
            "           5       0.73      0.86      0.79        87\n",
            "           6       0.92      0.87      0.89        87\n",
            "           7       0.84      0.90      0.87        99\n",
            "           8       0.86      0.78      0.82        89\n",
            "           9       0.82      0.89      0.85        95\n",
            "\n",
            "    accuracy                           0.88      1001\n",
            "   macro avg       0.87      0.87      0.87      1001\n",
            "weighted avg       0.88      0.88      0.88      1001\n",
            "\n"
          ],
          "name": "stdout"
        }
      ]
    }
  ]
}